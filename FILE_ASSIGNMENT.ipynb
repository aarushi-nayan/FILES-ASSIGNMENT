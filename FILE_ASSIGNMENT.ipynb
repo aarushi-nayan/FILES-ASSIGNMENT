{
  "nbformat": 4,
  "nbformat_minor": 0,
  "metadata": {
    "colab": {
      "provenance": []
    },
    "kernelspec": {
      "name": "python3",
      "display_name": "Python 3"
    },
    "language_info": {
      "name": "python"
    }
  },
  "cells": [
    {
      "cell_type": "code",
      "execution_count": null,
      "metadata": {
        "id": "00Ugvwnixiqy"
      },
      "outputs": [],
      "source": []
    },
    {
      "cell_type": "markdown",
      "source": [
        "#Assignment FILES,EXCEPETION\n",
        "\n",
        "Q1. What is the difference between interpreted and compiled languages?\n",
        "\n",
        "--->Compiled Languages convert code into machine language before execution using a compiler, making them faster (e.g., C, C++).\n",
        "Interpreted Languages run code line-by-line at runtime using an interpreter, making them slower but easier to debug (e.g., Python, JavaScript).\n",
        "\n",
        "\n",
        "Q2. What is exception handling in Python?\n",
        "\n",
        "--->Exception handling in Python is used to catch and manage errors using try, except, else, and finally blocks, so the program doesn't crash.\n",
        "Example:"
      ],
      "metadata": {
        "id": "Ew37qy1xxkCK"
      }
    },
    {
      "cell_type": "code",
      "source": [
        "try:\n",
        "    x = 10 / 0\n",
        "except ZeroDivisionError:\n",
        "    print(\"Cannot divide by zero\")\n"
      ],
      "metadata": {
        "id": "3Em749LOyRrF"
      },
      "execution_count": null,
      "outputs": []
    },
    {
      "cell_type": "markdown",
      "source": [
        "Q3. What is the purpose of the finally block in exception handling?\n",
        "\n",
        "--->The finally block is used to execute code regardless of whether an exception occurred or not — often for cleanup tasks like closing files or releasing resources.\n",
        "\n",
        "Q4. What is logging in Python?\n",
        "\n",
        "--->Logging in Python is used to record messages about a program’s execution (info, warnings, errors) for debugging and monitoring.\n",
        "It’s done using the built-in logging module.\n",
        "\n",
        "\n",
        "import logging\n",
        "logging.warning(\"This is a warning\")\n",
        "\n",
        "\n",
        "Q5. What is the significance of the __del__ method in Python?\n",
        "\n",
        "--->The __del__ method in Python is a destructor that is called when an object is about to be destroyed. It's used to clean up resources like closing files or releasing memory.\n",
        "\n"
      ],
      "metadata": {
        "id": "DyL5mOGHyTPX"
      }
    },
    {
      "cell_type": "code",
      "source": [
        "class MyClass:\n",
        "    def __del__(self):\n",
        "        print(\"Object is being deleted\")\n"
      ],
      "metadata": {
        "id": "S-wNXoPmyuS0"
      },
      "execution_count": null,
      "outputs": []
    },
    {
      "cell_type": "markdown",
      "source": [
        "Q6. What is the difference between import and from ... import in Python?\n",
        "\n",
        "---> The difference is in how you access the imported items:\n",
        "\n",
        "import module\n",
        "Imports the whole module.\n",
        "\n",
        "You access functions with module.name.\n",
        "\n",
        "Example:\n",
        "\n",
        "import math\n",
        "print(math.sqrt(9))\n",
        "\n",
        "\n",
        "from module import name\n",
        "Imports a specific function, class, or variable.\n",
        "\n",
        "You access it directly without the module name.\n",
        "\n",
        "Example:from math import sqrt\n",
        "print(sqrt(9))\n",
        "\n",
        "\n",
        "Q7. How can you handle multiple exceptions in Python?\n",
        "\n",
        "--->1. Multiple except blocks:"
      ],
      "metadata": {
        "id": "UzydOC2Wyvqj"
      }
    },
    {
      "cell_type": "code",
      "source": [
        "try:\n",
        "    # code\n",
        "except ValueError:\n",
        "    print(\"Value error\")\n",
        "except ZeroDivisionError:\n",
        "    print(\"Division by zero\")\n"
      ],
      "metadata": {
        "id": "bfGv6yMYzLDc"
      },
      "execution_count": null,
      "outputs": []
    },
    {
      "cell_type": "markdown",
      "source": [
        "2. Single except with a tuple:"
      ],
      "metadata": {
        "id": "Ev-_nryPzLoF"
      }
    },
    {
      "cell_type": "code",
      "source": [
        "try:\n",
        "    # code\n",
        "except (ValueError, ZeroDivisionError):\n",
        "    print(\"Handled multiple exceptions\")\n"
      ],
      "metadata": {
        "id": "hTXkXihGzN6p"
      },
      "execution_count": null,
      "outputs": []
    },
    {
      "cell_type": "markdown",
      "source": [
        "Q8. What is the purpose of the with statement when handling files in Python?\n",
        "\n",
        "---> The with statement in Python is used to automatically manage file resources, like opening and closing files.\n",
        "\n",
        " Purpose:\n",
        "Ensures the file is closed properly, even if an error occurs.\n",
        "\n",
        "Makes code cleaner and safer."
      ],
      "metadata": {
        "id": "KDp_fY14zwZ8"
      }
    },
    {
      "cell_type": "code",
      "source": [
        "with open('file.txt', 'r') as f:\n",
        "    content = f.read()\n"
      ],
      "metadata": {
        "id": "_l-A7atvz9bE"
      },
      "execution_count": null,
      "outputs": []
    },
    {
      "cell_type": "markdown",
      "source": [
        "Q9.  What is the difference between multithreading and multiprocessing?\n",
        "\n",
        "---> Multithreading uses multiple threads within the same process to run tasks concurrently, sharing the same memory. It's good for I/O-bound tasks.\n",
        "\n",
        "Multiprocessing uses multiple processes, each with its own memory space, to run tasks in parallel. It's better for CPU-bound tasks.\n",
        "\n",
        "Q10. What are the advantages of using logging in a program?\n",
        "\n",
        "--->Advantages of using logging in a program:\n",
        "\n",
        "Helps track and debug issues by recording events and errors.\n",
        "\n",
        "Provides a history of program execution for analysis.\n",
        "\n",
        "Allows monitoring of application behavior in production.\n",
        "\n",
        "Can be configured to record different levels of importance (info, warning, error).\n",
        "\n",
        "Makes troubleshooting easier without stopping the program.\n",
        "\n",
        "Supports output to various destinations (console, files, remote servers).\n",
        "\n",
        "\n",
        "Q11. What is memory management in Python?\n",
        "\n",
        "---> Memory management in Python is how Python allocates, tracks, and frees memory used by objects during program execution. It involves:\n",
        "\n",
        "Automatic allocation of memory when creating objects.\n",
        "\n",
        "Garbage collection to remove unused objects and free memory.\n",
        "\n",
        "Use of reference counting to keep track of how many references point to an object.\n",
        "\n",
        "Q12. What are the basic steps involved in exception handling in Python?\n",
        "\n",
        "--->Basic steps in Python exception handling:\n",
        "\n",
        "try: Write the code that might raise an exception inside a try block.\n",
        "\n",
        "except: Catch and handle specific exceptions in one or more except blocks.\n",
        "\n",
        "(Optional) else: Code that runs if no exception occurs.\n",
        "\n",
        "(Optional) finally: Code that runs no matter what, often for cleanup.\n",
        "\n",
        "Q13. Why is memory management important in Python?\n",
        "\n",
        "---> Memory management is important in Python because it:\n",
        "\n",
        "Optimizes resource usage by efficiently allocating and freeing memory.\n",
        "\n",
        "Prevents memory leaks that can slow down or crash programs.\n",
        "\n",
        "Improves performance by managing how objects are stored and deleted.\n",
        "\n",
        "Ensures stable and reliable program execution without manual memory handling.\n",
        "\n",
        "Q14. What is the role of try and except in exception handling?\n",
        "\n",
        "--->The try block contains code that might raise an exception, and the except block catches and handles those exceptions to prevent the program from crashing.\n",
        "\n",
        "Q15. How does Python's garbage collection system work?\n",
        "\n",
        "--->Python’s garbage collection works by:\n",
        "\n",
        "Reference Counting: Every object keeps track of how many references point to it. When the count drops to zero, the object is immediately deleted.\n",
        "\n",
        "Garbage Collector (GC): Handles cyclic references (objects referencing each other) that reference counting can’t clean up. It periodically searches for unreachable cycles and frees them.\n",
        "\n",
        "Together, these ensure automatic memory cleanup without manual intervention.\n",
        "\n",
        "Q16. What is the purpose of the else block in exception handling?\n",
        "\n",
        "--->The else block runs only if no exception occurs in the try block. It’s used to execute code that should run when everything succeeds, keeping it separate from error-handling code.\n",
        "\n",
        "Q17. What are the common logging levels in Python?\n",
        "\n",
        "--->Common logging levels in Python are:\n",
        "\n",
        "DEBUG — Detailed information, typically for diagnosing problems\n",
        "\n",
        "INFO — General events or actions that confirm things are working\n",
        "\n",
        "WARNING — Indications of potential issues or important situations\n",
        "\n",
        "ERROR — Serious problems that prevent some functionality\n",
        "\n",
        "CRITICAL — Very severe errors causing program failure\n",
        "\n",
        "These help control the importance of logged messages.\n",
        "\n",
        "Q18. What is the difference between os.fork() and multiprocessing in Python?\n",
        "\n",
        "--->Here's the difference:\n",
        "\n",
        "os.fork():\n",
        "\n",
        "Creates a child process by duplicating the current process (Unix/Linux only).\n",
        "\n",
        "The child is an exact copy of the parent.\n",
        "\n",
        "Low-level and OS-dependent.\n",
        "\n",
        "You handle process control manually.\n",
        "\n",
        "multiprocessing module:\n",
        "\n",
        "A high-level, cross-platform way to create and manage processes in Python.\n",
        "\n",
        "Provides easy APIs for process creation, communication, and synchronization.\n",
        "\n",
        "Works on Windows and Unix.\n",
        "\n",
        "Handles process lifecycle and data sharing more safely and conveniently.\n",
        "\n",
        "\n",
        "Q19. What is the importance of closing a file in Python?\n",
        "\n",
        "--->Closing a file in Python is important because it:\n",
        "\n",
        "Releases system resources tied to the file (like memory and file handles).\n",
        "\n",
        "Ensures all data is properly written (flushed) to disk.\n",
        "\n",
        "Prevents data corruption and file access issues.\n",
        "\n",
        "Avoids hitting limits on the number of open files.\n",
        "\n",
        "Using with handles this automatically, so you don’t have to close files manually.\n",
        "\n",
        "Q20. What is the difference between file.read() and file.readline() in Python?\n",
        "\n",
        "--->file.read() reads the entire content of the file (or a specified number of bytes) at once.\n",
        "\n",
        "file.readline() reads one line at a time from the file.\n",
        "\n",
        "Use read() to get everything at once, and readline() to process the file line-by-line.\n",
        "\n",
        "Q21. What is the logging module in Python used for?\n",
        "\n",
        "--->The logging module in Python is used to record messages from a program, such as errors, warnings, or informational events, which helps in debugging, monitoring, and troubleshooting applications.\n",
        "\n",
        "Q22. What is the os module in Python used for in file handling?\n",
        "\n",
        "--->The os module in Python is used in file handling to perform operating system–level tasks like:\n",
        "\n",
        "Creating, deleting, renaming, and moving files and directories (os.remove(), os.rename(), os.mkdir(), etc.)\n",
        "\n",
        "Getting file or directory information (os.path functions)\n",
        "\n",
        "Checking file existence and permissions\n",
        "\n",
        "Working with file paths in a platform-independent way\n",
        "\n",
        "Q23. What are the challenges associated with memory management in Python?\n",
        "\n",
        "--->Challenges with memory management in Python include:\n",
        "\n",
        "Handling circular references that reference counting alone can't clean up (requires garbage collector).\n",
        "\n",
        "Memory fragmentation over time can reduce efficiency.\n",
        "\n",
        "Managing large objects or data structures that consume lots of memory.\n",
        "\n",
        "Performance overhead of garbage collection pauses.\n",
        "\n",
        "\n",
        "Q24. How do you raise an exception manually in Python?\n",
        "\n",
        "--->You can raise an exception manually in Python using the raise statement.\n",
        "\n",
        "Example:"
      ],
      "metadata": {
        "id": "W4OtgMEZz-Bh"
      }
    },
    {
      "cell_type": "code",
      "source": [
        "raise ValueError(\"This is a custom error message\")\n"
      ],
      "metadata": {
        "id": "hU23y9Lx1yI2"
      },
      "execution_count": null,
      "outputs": []
    },
    {
      "cell_type": "markdown",
      "source": [
        "Q25. Why is it important to use multithreading in certain applications?\n",
        "\n",
        "--->Multithreading is important because it allows a program to perform multiple tasks simultaneously, which can:\n",
        "\n",
        "Improve responsiveness, especially in user interfaces.\n",
        "\n",
        "Speed up I/O-bound operations like reading files or network calls by running them in parallel.\n",
        "\n",
        "Make better use of CPU time while waiting for slow operations.\n",
        "\n",
        "Help handle multiple tasks without blocking the main program flow.\n",
        "\n",
        "It’s especially useful for programs that need to manage many tasks at once without heavy CPU computation.\n",
        "\n",
        "#Practical Questions\n",
        "\n",
        "Q1. How can you open a file for writing in Python and write a string to it?\n",
        "\n"
      ],
      "metadata": {
        "id": "BBs0YfFT1y4D"
      }
    },
    {
      "cell_type": "code",
      "source": [
        "with open('filename.txt', 'w') as file:\n",
        "    file.write(\"This is a sample string.\")\n"
      ],
      "metadata": {
        "id": "kgRdP9jT2E9b"
      },
      "execution_count": null,
      "outputs": []
    },
    {
      "cell_type": "code",
      "source": [],
      "metadata": {
        "id": "YCWvdMh-2SL_"
      },
      "execution_count": null,
      "outputs": []
    },
    {
      "cell_type": "markdown",
      "source": [
        "Q2. Write a Python program to read the contents of a file and print each line."
      ],
      "metadata": {
        "id": "G7o0akw02bBB"
      }
    },
    {
      "cell_type": "code",
      "source": [
        "with open('filename.txt', 'r') as file:\n",
        "    for line in file:\n",
        "        print(line, end='')\n"
      ],
      "metadata": {
        "id": "ICcUz5092UC5"
      },
      "execution_count": null,
      "outputs": []
    },
    {
      "cell_type": "markdown",
      "source": [
        "Q3. How would you handle a case where the file doesn't exist while trying to open it for reading?\n",
        "\n"
      ],
      "metadata": {
        "id": "-PoQdQa02XzM"
      }
    },
    {
      "cell_type": "code",
      "source": [
        "try:\n",
        "    with open('filename.txt', 'r') as file:\n",
        "        for line in file:\n",
        "            print(line, end='')\n",
        "except FileNotFoundError:\n",
        "    print(\"File not found. Please check the filename and try again.\")\n"
      ],
      "metadata": {
        "id": "fbJIHzqk2k4e"
      },
      "execution_count": null,
      "outputs": []
    },
    {
      "cell_type": "markdown",
      "source": [
        "Q4. Write a Python script that reads from one file and writes its content to another file.\n"
      ],
      "metadata": {
        "id": "ev_0-ZBx2lxy"
      }
    },
    {
      "cell_type": "code",
      "source": [
        "with open('source.txt', 'r') as source_file:\n",
        "    content = source_file.read()\n",
        "\n",
        "with open('destination.txt', 'w') as dest_file:\n",
        "    dest_file.write(content)\n"
      ],
      "metadata": {
        "id": "HTBxi6AE2xcM"
      },
      "execution_count": null,
      "outputs": []
    },
    {
      "cell_type": "markdown",
      "source": [
        "Q5. How would you catch and handle division by zero error in Python?\n",
        "\n"
      ],
      "metadata": {
        "id": "6pS1tQdi21z_"
      }
    },
    {
      "cell_type": "code",
      "source": [
        "try:\n",
        "    result = 10 / 0\n",
        "except ZeroDivisionError:\n",
        "    print(\"Error: Cannot divide by zero!\")\n"
      ],
      "metadata": {
        "id": "GgspX30p3AFj"
      },
      "execution_count": null,
      "outputs": []
    },
    {
      "cell_type": "markdown",
      "source": [
        "Q6. Write a Python program that logs an error message to a log file when a division by zero exception occurs.\n",
        "\n"
      ],
      "metadata": {
        "id": "DNbz-tnU3DdU"
      }
    },
    {
      "cell_type": "code",
      "source": [
        "import logging\n",
        "\n",
        "# Configure logging to write to a file\n",
        "logging.basicConfig(filename='error.log', level=logging.ERROR,\n",
        "                    format='%(asctime)s - %(levelname)s - %(message)s')\n",
        "\n",
        "try:\n",
        "    result = 10 / 0\n",
        "except ZeroDivisionError as e:\n",
        "    logging.error(\"Division by zero error occurred\", exc_info=True)\n"
      ],
      "metadata": {
        "id": "quAHMCuN3GxJ"
      },
      "execution_count": null,
      "outputs": []
    },
    {
      "cell_type": "markdown",
      "source": [
        "Q7.  How do you log information at different levels (INFO, ERROR, WARNING) in Python using the logging module.\n",
        "\n"
      ],
      "metadata": {
        "id": "0iF8HOgo3KKA"
      }
    },
    {
      "cell_type": "code",
      "source": [
        "import logging\n",
        "\n",
        "logging.basicConfig(level=logging.DEBUG)\n",
        "\n",
        "logging.info(\"This is an info message\")\n",
        "logging.warning(\"This is a warning message\")\n",
        "logging.error(\"This is an error message\")\n"
      ],
      "metadata": {
        "id": "xfCV9j5S3OQy"
      },
      "execution_count": null,
      "outputs": []
    },
    {
      "cell_type": "markdown",
      "source": [
        "Q8. Write a program to handle a file opening error using exception handling.\n"
      ],
      "metadata": {
        "id": "J6GnYog33QO9"
      }
    },
    {
      "cell_type": "code",
      "source": [
        "try:\n",
        "    with open('nonexistent_file.txt', 'r') as file:\n",
        "        content = file.read()\n",
        "        print(content)\n",
        "except FileNotFoundError:\n",
        "    print(\"Error: The file does not exist.\")\n"
      ],
      "metadata": {
        "id": "sziAQOek3WdV"
      },
      "execution_count": null,
      "outputs": []
    },
    {
      "cell_type": "markdown",
      "source": [
        "Q9.How can you read a file line by line and store its content in a list in Python?\n",
        "\n",
        "--->You can read a file line by line and store each line in a list like this:\n",
        "\n",
        "\n"
      ],
      "metadata": {
        "id": "g3aGIgko3XEL"
      }
    },
    {
      "cell_type": "code",
      "source": [
        "lines = []\n",
        "with open('filename.txt', 'r') as file:\n",
        "    for line in file:\n",
        "        lines.append(line.rstrip('\\n'))\n"
      ],
      "metadata": {
        "id": "2j9uQVk53gfy"
      },
      "execution_count": null,
      "outputs": []
    },
    {
      "cell_type": "markdown",
      "source": [
        "Now, lines is a list where each element is a line from the file without the newline character.\n",
        "\n",
        "Q10. How can you append data to an existing file in Python?\n",
        "\n",
        "--->To append data to an existing file, open it in append mode 'a' and write to it:"
      ],
      "metadata": {
        "id": "rnR1KZq63hxN"
      }
    },
    {
      "cell_type": "code",
      "source": [
        "with open('filename.txt', 'a') as file:\n",
        "    file.write(\"This text will be added at the end.\\n\")\n"
      ],
      "metadata": {
        "id": "eBtNXL1T3rIY"
      },
      "execution_count": null,
      "outputs": []
    },
    {
      "cell_type": "markdown",
      "source": [
        "Q11. Write a Python program that uses a try-except block to handle an error when attempting to access a\n",
        "dictionary key that doesn't exist.\n",
        "\n",
        "--->"
      ],
      "metadata": {
        "id": "2qPz0KJW3swV"
      }
    },
    {
      "cell_type": "code",
      "source": [
        "my_dict = {'a': 1, 'b': 2}\n",
        "\n",
        "try:\n",
        "    value = my_dict['c']\n",
        "except KeyError:\n",
        "    print(\"Error: Key 'c' does not exist in the dictionary.\")\n"
      ],
      "metadata": {
        "id": "uss1CJOU31iy"
      },
      "execution_count": null,
      "outputs": []
    },
    {
      "cell_type": "markdown",
      "source": [
        "Q12.Write a program that demonstrates using multiple except blocks to handle different types of exceptions.\n",
        "\n"
      ],
      "metadata": {
        "id": "ufxGDKed32SF"
      }
    },
    {
      "cell_type": "code",
      "source": [
        "try:\n",
        "    num = int(input(\"Enter a number: \"))\n",
        "    result = 10 / num\n",
        "except ValueError:\n",
        "    print(\"Error: Invalid input! Please enter a valid number.\")\n",
        "except ZeroDivisionError:\n",
        "    print(\"Error: Cannot divide by zero.\")\n",
        "except Exception as e:\n",
        "    print(f\"An unexpected error occurred: {e}\")\n"
      ],
      "metadata": {
        "id": "5DvitcpT39sl"
      },
      "execution_count": null,
      "outputs": []
    },
    {
      "cell_type": "markdown",
      "source": [
        "Q13.How would you check if a file exists before attempting to read it in Python?\n",
        "\n",
        "--->You can check if a file exists using the os.path module or pathlib:\n",
        "\n",
        "Using os.path:"
      ],
      "metadata": {
        "id": "_x7TiQoE3-g-"
      }
    },
    {
      "cell_type": "code",
      "source": [
        "import os\n",
        "\n",
        "if os.path.exists('filename.txt'):\n",
        "    with open('filename.txt', 'r') as file:\n",
        "        print(file.read())\n",
        "else:\n",
        "    print(\"File does not exist.\")\n"
      ],
      "metadata": {
        "id": "itWiI1ml4Fbt"
      },
      "execution_count": null,
      "outputs": []
    },
    {
      "cell_type": "markdown",
      "source": [
        "Using pathlib (Python 3.4+):"
      ],
      "metadata": {
        "id": "pIlRbmsw4Gm9"
      }
    },
    {
      "cell_type": "code",
      "source": [
        "from pathlib import Path\n",
        "\n",
        "file_path = Path('filename.txt')\n",
        "if file_path.is_file():\n",
        "    with open(file_path, 'r') as file:\n",
        "        print(file.read())\n",
        "else:\n",
        "    print(\"File does not exist.\")\n"
      ],
      "metadata": {
        "id": "yVDZstnS4JY3"
      },
      "execution_count": null,
      "outputs": []
    },
    {
      "cell_type": "markdown",
      "source": [
        "Q14. Write a program that uses the logging module to log both informational and error messages.\n",
        "\n"
      ],
      "metadata": {
        "id": "tfdmO2gZ4J6k"
      }
    },
    {
      "cell_type": "code",
      "source": [
        "import logging\n",
        "\n",
        "# Configure logging\n",
        "logging.basicConfig(filename='app.log', level=logging.INFO,\n",
        "                    format='%(asctime)s - %(levelname)s - %(message)s')\n",
        "\n",
        "logging.info(\"This is an informational message.\")\n",
        "\n",
        "try:\n",
        "    result = 10 / 0\n",
        "except ZeroDivisionError:\n",
        "    logging.error(\"Error: Division by zero occurred.\")\n"
      ],
      "metadata": {
        "id": "dwOFr6Fp4QUG"
      },
      "execution_count": null,
      "outputs": []
    },
    {
      "cell_type": "markdown",
      "source": [
        "Q15.Write a Python program that prints the content of a file and handles the case when the file is empty.\n",
        "\n",
        "--->"
      ],
      "metadata": {
        "id": "fctqb8384Q7_"
      }
    },
    {
      "cell_type": "code",
      "source": [
        "try:\n",
        "    with open('filename.txt', 'r') as file:\n",
        "        content = file.read()\n",
        "        if content:\n",
        "            print(content)\n",
        "        else:\n",
        "            print(\"The file is empty.\")\n",
        "except FileNotFoundError:\n",
        "    print(\"File not found.\")\n"
      ],
      "metadata": {
        "id": "Dwpb3F0I4XhH"
      },
      "execution_count": null,
      "outputs": []
    },
    {
      "cell_type": "markdown",
      "source": [
        "Q16. Demonstrate how to use memory profiling to check the memory usage of a small program.\n",
        "\n",
        "To profile memory usage in Python, you can use the memory_profiler module. Here’s how to do it for a small program:\n",
        "\n",
        "1. Install memory_profiler (if not installed):"
      ],
      "metadata": {
        "id": "ZgbZCOD34YF7"
      }
    },
    {
      "cell_type": "code",
      "source": [
        "pip install memory_profiler\n"
      ],
      "metadata": {
        "id": "fdTNmRw_4hSw"
      },
      "execution_count": null,
      "outputs": []
    },
    {
      "cell_type": "markdown",
      "source": [
        "2. Create a Python script with memory profiling:\n"
      ],
      "metadata": {
        "id": "238GF34N4ieo"
      }
    },
    {
      "cell_type": "code",
      "source": [
        "from memory_profiler import profile\n",
        "\n",
        "@profile\n",
        "def my_function():\n",
        "    a = [i for i in range(100000)]\n",
        "    b = [i*i for i in range(100000)]\n",
        "    return a, b\n",
        "\n",
        "if __name__ == '__main__':\n",
        "    my_function()\n"
      ],
      "metadata": {
        "id": "LZyxcbvo4orA"
      },
      "execution_count": null,
      "outputs": []
    },
    {
      "cell_type": "code",
      "source": [],
      "metadata": {
        "id": "NimcdJcf4o2m"
      },
      "execution_count": null,
      "outputs": []
    },
    {
      "cell_type": "markdown",
      "source": [
        "3.Run the script with memory profiling enabled:"
      ],
      "metadata": {
        "id": "FjRbMwG84pIg"
      }
    },
    {
      "cell_type": "code",
      "source": [
        "python -m memory_profiler your_script.py\n"
      ],
      "metadata": {
        "id": "QXK4ZNO84sUH"
      },
      "execution_count": null,
      "outputs": []
    },
    {
      "cell_type": "markdown",
      "source": [
        "Q17.  Write a Python program to create and write a list of numbers to a file, one number per line.\n",
        "\n"
      ],
      "metadata": {
        "id": "3RuXFiDH4wIP"
      }
    },
    {
      "cell_type": "code",
      "source": [
        "numbers = [1, 2, 3, 4, 5]\n",
        "\n",
        "with open('numbers.txt', 'w') as file:\n",
        "    for number in numbers:\n",
        "        file.write(str(number) + '\\n')\n"
      ],
      "metadata": {
        "id": "Uo0N5sWV4zJ7"
      },
      "execution_count": null,
      "outputs": []
    },
    {
      "cell_type": "markdown",
      "source": [
        "Q18. How would you implement a basic logging setup that logs to a file with rotation after 1MB.\n"
      ],
      "metadata": {
        "id": "Sb8DwxLP4ztG"
      }
    },
    {
      "cell_type": "code",
      "source": [
        "import logging\n",
        "from logging.handlers import RotatingFileHandler\n",
        "\n",
        "# Create logger\n",
        "logger = logging.getLogger('my_logger')\n",
        "logger.setLevel(logging.DEBUG)\n",
        "\n",
        "# Create a rotating file handler (1MB max, keep 3 backups)\n",
        "handler = RotatingFileHandler('app.log', maxBytes=1_000_000, backupCount=3)\n",
        "handler.setLevel(logging.DEBUG)\n",
        "\n",
        "# Create formatter and add to handler\n",
        "formatter = logging.Formatter('%(asctime)s -\n"
      ],
      "metadata": {
        "id": "3MrJ24lB45K2"
      },
      "execution_count": null,
      "outputs": []
    },
    {
      "cell_type": "markdown",
      "source": [
        "Q19.Write a program that handles both IndexError and KeyError using a try-except block.\n",
        "\n"
      ],
      "metadata": {
        "id": "s4Sj7-V345uK"
      }
    },
    {
      "cell_type": "code",
      "source": [
        "my_list = [1, 2, 3]\n",
        "my_dict = {'a': 10, 'b': 20}\n",
        "\n",
        "try:\n",
        "    print(my_list[5])         # May raise IndexError\n",
        "    print(my_dict['c'])       # May raise KeyError\n",
        "except IndexError:\n",
        "    print(\"Error: List index out of range.\")\n",
        "except KeyError:\n",
        "    print(\"Error: Key not found in dictionary.\")\n"
      ],
      "metadata": {
        "id": "i6-skVsx5AlL"
      },
      "execution_count": null,
      "outputs": []
    },
    {
      "cell_type": "markdown",
      "source": [
        "Q20.How would you open a file and read its contents using a context manager in Python.\n",
        "\n"
      ],
      "metadata": {
        "id": "gPc-0I-o5BRk"
      }
    },
    {
      "cell_type": "code",
      "source": [
        "with open('filename.txt', 'r') as file:\n",
        "    content = file.read()\n",
        "    print(content)\n"
      ],
      "metadata": {
        "id": "we2fU5nE5HDn"
      },
      "execution_count": null,
      "outputs": []
    },
    {
      "cell_type": "markdown",
      "source": [
        "Q21.Write a Python program that reads a file and prints the number of occurrences of a specific word.\n",
        "\n"
      ],
      "metadata": {
        "id": "MgYlPDoA5Huf"
      }
    },
    {
      "cell_type": "code",
      "source": [
        "word_to_count = 'example'\n",
        "\n",
        "try:\n",
        "    with open('filename.txt', 'r') as file:\n",
        "        content = file.read().lower()\n",
        "        words = content.split()\n",
        "        count = words.count(word_to_count.lower())\n",
        "    print(f\"The word '{word_to_count}' occurs {count} times.\")\n",
        "except FileNotFoundError:\n",
        "    print(\"File not found.\")\n"
      ],
      "metadata": {
        "id": "m1fyYvvJ5R5A"
      },
      "execution_count": null,
      "outputs": []
    },
    {
      "cell_type": "markdown",
      "source": [
        "Q22. How can you check if a file is empty before attempting to read its contents.\n",
        "\n",
        "---> You can check if a file is empty by checking its size using os.path.getsize() before reading:"
      ],
      "metadata": {
        "id": "G6QCSEq75Spm"
      }
    },
    {
      "cell_type": "code",
      "source": [
        "import os\n",
        "\n",
        "file_path = 'filename.txt'\n",
        "\n",
        "if os.path.exists(file_path) and os.path.getsize(file_path) > 0:\n",
        "    with open(file_path, 'r') as file:\n",
        "        content = file.read()\n",
        "        print(content)\n",
        "else:\n",
        "    print(\"File is empty or does not exist.\")\n"
      ],
      "metadata": {
        "id": "sv0lI38H5W7d"
      },
      "execution_count": null,
      "outputs": []
    },
    {
      "cell_type": "markdown",
      "source": [
        "Q23.Write a Python program that writes to a log file when an error occurs during file handling."
      ],
      "metadata": {
        "id": "uzzJi8Sm5YWG"
      }
    },
    {
      "cell_type": "code",
      "source": [
        "import logging\n",
        "\n",
        "# Configure logging to file\n",
        "logging.basicConfig(filename='file_errors.log', level=logging.ERROR,\n",
        "                    format='%(asctime)s - %(levelname)s - %(message)s')\n",
        "\n",
        "try:\n",
        "    with open('nonexistent_file.txt', 'r') as file:\n",
        "        content = file.read()\n",
        "except Exception as e:\n",
        "    logging.error(\"An error occurred while handling the file.\", exc_info=True)\n"
      ],
      "metadata": {
        "id": "r2N9CjXH5cbM"
      },
      "execution_count": null,
      "outputs": []
    }
  ]
}